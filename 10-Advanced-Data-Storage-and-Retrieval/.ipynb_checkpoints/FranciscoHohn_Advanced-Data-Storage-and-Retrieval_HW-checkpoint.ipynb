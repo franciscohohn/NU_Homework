{
 "cells": [
  {
   "cell_type": "code",
   "execution_count": 1,
   "metadata": {},
   "outputs": [],
   "source": [
    "%matplotlib inline\n",
    "from matplotlib import style\n",
    "style.use('fivethirtyeight')\n",
    "import matplotlib.pyplot as plt"
   ]
  },
  {
   "cell_type": "code",
   "execution_count": 2,
   "metadata": {},
   "outputs": [],
   "source": [
    "import numpy as np\n",
    "import pandas as pd"
   ]
  },
  {
   "cell_type": "code",
   "execution_count": 3,
   "metadata": {},
   "outputs": [],
   "source": [
    "import datetime as dt\n",
    "# import datetime as dt"
   ]
  },
  {
   "cell_type": "markdown",
   "metadata": {},
   "source": [
    "# Reflect Tables into SQLAlchemy ORM"
   ]
  },
  {
   "cell_type": "code",
   "execution_count": 4,
   "metadata": {},
   "outputs": [],
   "source": [
    "# Python SQL toolkit and Object Relational Mapper\n",
    "import sqlalchemy\n",
    "from sqlalchemy.ext.automap import automap_base\n",
    "from sqlalchemy.orm import Session\n",
    "from sqlalchemy import create_engine, inspect, func"
   ]
  },
  {
   "cell_type": "code",
   "execution_count": 5,
   "metadata": {},
   "outputs": [],
   "source": [
    "engine = create_engine(\"sqlite:///hawaii.sqlite\")"
   ]
  },
  {
   "cell_type": "code",
   "execution_count": 6,
   "metadata": {},
   "outputs": [
    {
     "data": {
      "text/plain": [
       "['measurement', 'station']"
      ]
     },
     "execution_count": 6,
     "metadata": {},
     "output_type": "execute_result"
    }
   ],
   "source": [
    "# Use the Inspector to explore the database and print the table names\n",
    "inspector = inspect(engine)\n",
    "inspector.get_table_names()"
   ]
  },
  {
   "cell_type": "code",
   "execution_count": 7,
   "metadata": {},
   "outputs": [
    {
     "name": "stdout",
     "output_type": "stream",
     "text": [
      "id INTEGER\n",
      "station TEXT\n",
      "date TEXT\n",
      "prcp FLOAT\n",
      "tobs FLOAT\n"
     ]
    }
   ],
   "source": [
    "# Use the Inspector to print table fields and data types\n",
    "measurement_columns = inspector.get_columns('measurement')\n",
    "for c in measurement_columns:\n",
    "    print(c['name'], c[\"type\"])"
   ]
  },
  {
   "cell_type": "code",
   "execution_count": 8,
   "metadata": {},
   "outputs": [
    {
     "data": {
      "text/plain": [
       "[(1, 'USC00519397', '2010-01-01', 0.08, 65.0),\n",
       " (2, 'USC00519397', '2010-01-02', 0.0, 63.0),\n",
       " (3, 'USC00519397', '2010-01-03', 0.0, 74.0),\n",
       " (4, 'USC00519397', '2010-01-04', 0.0, 76.0),\n",
       " (5, 'USC00519397', '2010-01-06', None, 73.0),\n",
       " (6, 'USC00519397', '2010-01-07', 0.06, 70.0),\n",
       " (7, 'USC00519397', '2010-01-08', 0.0, 64.0),\n",
       " (8, 'USC00519397', '2010-01-09', 0.0, 68.0),\n",
       " (9, 'USC00519397', '2010-01-10', 0.0, 73.0),\n",
       " (10, 'USC00519397', '2010-01-11', 0.01, 64.0)]"
      ]
     },
     "execution_count": 8,
     "metadata": {},
     "output_type": "execute_result"
    }
   ],
   "source": [
    "# Show first 10 rows of measurement table\n",
    "engine.execute('SELECT * FROM measurement LIMIT 10').fetchall()"
   ]
  },
  {
   "cell_type": "code",
   "execution_count": 9,
   "metadata": {},
   "outputs": [
    {
     "name": "stdout",
     "output_type": "stream",
     "text": [
      "id INTEGER\n",
      "station TEXT\n",
      "name TEXT\n",
      "latitude FLOAT\n",
      "longitude FLOAT\n",
      "elevation FLOAT\n"
     ]
    }
   ],
   "source": [
    "# Use the Inspector to print table fields and data types\n",
    "station_columns = inspector.get_columns('station')\n",
    "for c in station_columns:\n",
    "    print(c['name'], c[\"type\"])"
   ]
  },
  {
   "cell_type": "code",
   "execution_count": 10,
   "metadata": {},
   "outputs": [
    {
     "data": {
      "text/plain": [
       "[(1, 'USC00519397', 'WAIKIKI 717.2, HI US', 21.2716, -157.8168, 3.0),\n",
       " (2, 'USC00513117', 'KANEOHE 838.1, HI US', 21.4234, -157.8015, 14.6),\n",
       " (3, 'USC00514830', 'KUALOA RANCH HEADQUARTERS 886.9, HI US', 21.5213, -157.8374, 7.0),\n",
       " (4, 'USC00517948', 'PEARL CITY, HI US', 21.3934, -157.9751, 11.9),\n",
       " (5, 'USC00518838', 'UPPER WAHIAWA 874.3, HI US', 21.4992, -158.0111, 306.6),\n",
       " (6, 'USC00519523', 'WAIMANALO EXPERIMENTAL FARM, HI US', 21.33556, -157.71139, 19.5),\n",
       " (7, 'USC00519281', 'WAIHEE 837.5, HI US', 21.45167, -157.84888999999998, 32.9),\n",
       " (8, 'USC00511918', 'HONOLULU OBSERVATORY 702.2, HI US', 21.3152, -157.9992, 0.9),\n",
       " (9, 'USC00516128', 'MANOA LYON ARBO 785.2, HI US', 21.3331, -157.8025, 152.4)]"
      ]
     },
     "execution_count": 10,
     "metadata": {},
     "output_type": "execute_result"
    }
   ],
   "source": [
    "# Show first 10 rows of station table\n",
    "engine.execute('SELECT * FROM station LIMIT 10').fetchall()"
   ]
  },
  {
   "cell_type": "code",
   "execution_count": 11,
   "metadata": {},
   "outputs": [],
   "source": [
    "# reflect an existing database into a new model\n",
    "Base = automap_base()\n",
    "# reflect the tables\n",
    "Base.prepare(engine, reflect=True)"
   ]
  },
  {
   "cell_type": "code",
   "execution_count": 12,
   "metadata": {},
   "outputs": [],
   "source": [
    "# Save references to each table\n",
    "Measurement = Base.classes.measurement\n",
    "Station = Base.classes.station"
   ]
  },
  {
   "cell_type": "code",
   "execution_count": 13,
   "metadata": {},
   "outputs": [],
   "source": [
    "# Create our session (link) from Python to the DB\n",
    "session = Session(engine)"
   ]
  },
  {
   "cell_type": "markdown",
   "metadata": {},
   "source": [
    "# Exploratory Climate Analysis"
   ]
  },
  {
   "cell_type": "markdown",
   "metadata": {},
   "source": [
    "### Design a query to retrieve the last 12 months of precipitation data and plot the results\n"
   ]
  },
  {
   "cell_type": "code",
   "execution_count": 14,
   "metadata": {
    "scrolled": false
   },
   "outputs": [
    {
     "data": {
      "text/plain": [
       "datetime.date(2016, 8, 23)"
      ]
     },
     "execution_count": 14,
     "metadata": {},
     "output_type": "execute_result"
    }
   ],
   "source": [
    "# Calculate the date 1 year ago from the last data point in the database\n",
    "recent_date = session.query(Measurement.date).order_by(Measurement.date.desc()).first()\n",
    "# recent_date\n",
    "\n",
    "one_year_ago = dt.date(2017, 8, 23) - dt.timedelta(days=365)\n",
    "one_year_ago"
   ]
  },
  {
   "cell_type": "code",
   "execution_count": 15,
   "metadata": {},
   "outputs": [],
   "source": [
    "# Perform a query to retrieve the data and precipitation scores\n",
    "past_year_results = session.query(Measurement.date, Measurement.prcp).filter(Measurement.date.between('2016-08-23', '2017-08-23')).order_by(Measurement.date.desc()).all()\n",
    "# past_year_results"
   ]
  },
  {
   "cell_type": "code",
   "execution_count": 16,
   "metadata": {},
   "outputs": [],
   "source": [
    "# Unpack tuples using list comprehensions\n",
    "date = [result[0] for result in past_year_results]\n",
    "precipitation = [result[1] for result in past_year_results]\n",
    "# date\n",
    "#precipitation"
   ]
  },
  {
   "cell_type": "code",
   "execution_count": 17,
   "metadata": {},
   "outputs": [
    {
     "data": {
      "text/html": [
       "<div>\n",
       "<style scoped>\n",
       "    .dataframe tbody tr th:only-of-type {\n",
       "        vertical-align: middle;\n",
       "    }\n",
       "\n",
       "    .dataframe tbody tr th {\n",
       "        vertical-align: top;\n",
       "    }\n",
       "\n",
       "    .dataframe thead th {\n",
       "        text-align: right;\n",
       "    }\n",
       "</style>\n",
       "<table border=\"1\" class=\"dataframe\">\n",
       "  <thead>\n",
       "    <tr style=\"text-align: right;\">\n",
       "      <th></th>\n",
       "      <th>precipitation</th>\n",
       "    </tr>\n",
       "    <tr>\n",
       "      <th>date</th>\n",
       "      <th></th>\n",
       "    </tr>\n",
       "  </thead>\n",
       "  <tbody>\n",
       "    <tr>\n",
       "      <th>2017-08-23</th>\n",
       "      <td>0.00</td>\n",
       "    </tr>\n",
       "    <tr>\n",
       "      <th>2017-08-23</th>\n",
       "      <td>0.00</td>\n",
       "    </tr>\n",
       "    <tr>\n",
       "      <th>2017-08-23</th>\n",
       "      <td>0.08</td>\n",
       "    </tr>\n",
       "    <tr>\n",
       "      <th>2017-08-23</th>\n",
       "      <td>0.45</td>\n",
       "    </tr>\n",
       "    <tr>\n",
       "      <th>2017-08-22</th>\n",
       "      <td>0.00</td>\n",
       "    </tr>\n",
       "    <tr>\n",
       "      <th>2017-08-22</th>\n",
       "      <td>0.00</td>\n",
       "    </tr>\n",
       "    <tr>\n",
       "      <th>2017-08-22</th>\n",
       "      <td>0.50</td>\n",
       "    </tr>\n",
       "    <tr>\n",
       "      <th>2017-08-21</th>\n",
       "      <td>0.00</td>\n",
       "    </tr>\n",
       "  </tbody>\n",
       "</table>\n",
       "</div>"
      ],
      "text/plain": [
       "            precipitation\n",
       "date                     \n",
       "2017-08-23           0.00\n",
       "2017-08-23           0.00\n",
       "2017-08-23           0.08\n",
       "2017-08-23           0.45\n",
       "2017-08-22           0.00\n",
       "2017-08-22           0.00\n",
       "2017-08-22           0.50\n",
       "2017-08-21           0.00"
      ]
     },
     "execution_count": 17,
     "metadata": {},
     "output_type": "execute_result"
    }
   ],
   "source": [
    "# Save the query results as a Pandas DataFrame and set the index to the date column\n",
    "date_prcp = pd.DataFrame(past_year_results, columns=['date','precipitation'])\n",
    "date_prcp.set_index('date', inplace=True )\n",
    "date_prcp.head(8)"
   ]
  },
  {
   "cell_type": "code",
   "execution_count": 18,
   "metadata": {},
   "outputs": [],
   "source": [
    "# Sort the dataframe by date\n",
    "date_prcp = date_prcp.sort_values(['date'])\n",
    "# date_prcp = date_prcp.groupby(['date']).sum()\n",
    "# date_prcp = date_prcp.groupby(['date']).sum()\n",
    "# date_prcp.head(8)"
   ]
  },
  {
   "cell_type": "code",
   "execution_count": 19,
   "metadata": {},
   "outputs": [
    {
     "data": {
      "text/html": [
       "<div>\n",
       "<style scoped>\n",
       "    .dataframe tbody tr th:only-of-type {\n",
       "        vertical-align: middle;\n",
       "    }\n",
       "\n",
       "    .dataframe tbody tr th {\n",
       "        vertical-align: top;\n",
       "    }\n",
       "\n",
       "    .dataframe thead th {\n",
       "        text-align: right;\n",
       "    }\n",
       "</style>\n",
       "<table border=\"1\" class=\"dataframe\">\n",
       "  <thead>\n",
       "    <tr style=\"text-align: right;\">\n",
       "      <th></th>\n",
       "      <th>precipitation</th>\n",
       "    </tr>\n",
       "    <tr>\n",
       "      <th>date</th>\n",
       "      <th></th>\n",
       "    </tr>\n",
       "  </thead>\n",
       "  <tbody>\n",
       "    <tr>\n",
       "      <th>2016-08-23</th>\n",
       "      <td>0.70</td>\n",
       "    </tr>\n",
       "    <tr>\n",
       "      <th>2016-08-23</th>\n",
       "      <td>0.00</td>\n",
       "    </tr>\n",
       "    <tr>\n",
       "      <th>2016-08-23</th>\n",
       "      <td>0.15</td>\n",
       "    </tr>\n",
       "    <tr>\n",
       "      <th>2016-08-23</th>\n",
       "      <td>1.79</td>\n",
       "    </tr>\n",
       "    <tr>\n",
       "      <th>2016-08-23</th>\n",
       "      <td>0.02</td>\n",
       "    </tr>\n",
       "    <tr>\n",
       "      <th>2016-08-23</th>\n",
       "      <td>0.05</td>\n",
       "    </tr>\n",
       "    <tr>\n",
       "      <th>2016-08-24</th>\n",
       "      <td>1.45</td>\n",
       "    </tr>\n",
       "    <tr>\n",
       "      <th>2016-08-24</th>\n",
       "      <td>2.15</td>\n",
       "    </tr>\n",
       "  </tbody>\n",
       "</table>\n",
       "</div>"
      ],
      "text/plain": [
       "            precipitation\n",
       "date                     \n",
       "2016-08-23           0.70\n",
       "2016-08-23           0.00\n",
       "2016-08-23           0.15\n",
       "2016-08-23           1.79\n",
       "2016-08-23           0.02\n",
       "2016-08-23           0.05\n",
       "2016-08-24           1.45\n",
       "2016-08-24           2.15"
      ]
     },
     "execution_count": 19,
     "metadata": {},
     "output_type": "execute_result"
    }
   ],
   "source": [
    "# Remove missing values\n",
    "date_prcp = date_prcp.dropna(axis=0, how='any', inplace=False)\n",
    "date_prcp.head(8)\n"
   ]
  },
  {
   "cell_type": "code",
   "execution_count": 20,
   "metadata": {},
   "outputs": [
    {
     "data": {
      "image/png": "[encoded data removed]",
      "text/plain": [
       "<Figure size 432x288 with 1 Axes>"
      ]
     },
     "metadata": {
      "needs_background": "light"
     },
     "output_type": "display_data"
    }
   ],
   "source": [
    "# Use Pandas Plotting with Matplotlib to plot the data\n",
    "# Plot the dataframe as a horizontal bar chart using pandas plotting\n",
    "Last_12mos_Prcp = date_prcp.plot(kind='bar')\n",
    "plt.grid()\n",
    "\n",
    "plt.savefig(\"Last_12mos_Prcp.png\", bbox_inches = 'tight')\n",
    "\n",
    "\n",
    "plt.show()"
   ]
  },
  {
   "cell_type": "markdown",
   "metadata": {},
   "source": [
    "### Design a query to show how many stations are available in this dataset?\n"
   ]
  },
  {
   "cell_type": "code",
   "execution_count": 21,
   "metadata": {
    "scrolled": true
   },
   "outputs": [
    {
     "data": {
      "text/html": [
       "<div>\n",
       "<style scoped>\n",
       "    .dataframe tbody tr th:only-of-type {\n",
       "        vertical-align: middle;\n",
       "    }\n",
       "\n",
       "    .dataframe tbody tr th {\n",
       "        vertical-align: top;\n",
       "    }\n",
       "\n",
       "    .dataframe thead th {\n",
       "        text-align: right;\n",
       "    }\n",
       "</style>\n",
       "<table border=\"1\" class=\"dataframe\">\n",
       "  <thead>\n",
       "    <tr style=\"text-align: right;\">\n",
       "      <th></th>\n",
       "      <th>precipitation</th>\n",
       "    </tr>\n",
       "  </thead>\n",
       "  <tbody>\n",
       "    <tr>\n",
       "      <th>count</th>\n",
       "      <td>2021.000000</td>\n",
       "    </tr>\n",
       "    <tr>\n",
       "      <th>mean</th>\n",
       "      <td>0.177279</td>\n",
       "    </tr>\n",
       "    <tr>\n",
       "      <th>std</th>\n",
       "      <td>0.461190</td>\n",
       "    </tr>\n",
       "    <tr>\n",
       "      <th>min</th>\n",
       "      <td>0.000000</td>\n",
       "    </tr>\n",
       "    <tr>\n",
       "      <th>25%</th>\n",
       "      <td>0.000000</td>\n",
       "    </tr>\n",
       "    <tr>\n",
       "      <th>50%</th>\n",
       "      <td>0.020000</td>\n",
       "    </tr>\n",
       "    <tr>\n",
       "      <th>75%</th>\n",
       "      <td>0.130000</td>\n",
       "    </tr>\n",
       "    <tr>\n",
       "      <th>max</th>\n",
       "      <td>6.700000</td>\n",
       "    </tr>\n",
       "  </tbody>\n",
       "</table>\n",
       "</div>"
      ],
      "text/plain": [
       "       precipitation\n",
       "count    2021.000000\n",
       "mean        0.177279\n",
       "std         0.461190\n",
       "min         0.000000\n",
       "25%         0.000000\n",
       "50%         0.020000\n",
       "75%         0.130000\n",
       "max         6.700000"
      ]
     },
     "execution_count": 21,
     "metadata": {},
     "output_type": "execute_result"
    }
   ],
   "source": [
    "# Use Pandas to calcualte the summary statistics for the precipitation data\n",
    "date_prcp.describe()"
   ]
  },
  {
   "cell_type": "code",
   "execution_count": 22,
   "metadata": {},
   "outputs": [
    {
     "data": {
      "text/plain": [
       "9"
      ]
     },
     "execution_count": 22,
     "metadata": {},
     "output_type": "execute_result"
    }
   ],
   "source": [
    "session.query(Station.id).count()\n",
    "\n",
    "# Alternate Options\n",
    "# engine.execute('select count(distinct station) from station').fetchall()\n",
    "# engine.execute('select count(id) from station').fetchall()"
   ]
  },
  {
   "cell_type": "code",
   "execution_count": 23,
   "metadata": {},
   "outputs": [
    {
     "data": {
      "text/plain": [
       "[('USC00519281', 2772),\n",
       " ('USC00519397', 2724),\n",
       " ('USC00513117', 2709),\n",
       " ('USC00519523', 2669),\n",
       " ('USC00516128', 2612),\n",
       " ('USC00514830', 2202),\n",
       " ('USC00511918', 1979),\n",
       " ('USC00517948', 1372),\n",
       " ('USC00518838', 511)]"
      ]
     },
     "execution_count": 23,
     "metadata": {},
     "output_type": "execute_result"
    }
   ],
   "source": [
    "# What are the most active stations? (i.e. what stations have the most rows)?\n",
    "# List the stations and the counts in descending order.\n",
    "session.query(Measurement.station, func.count(Measurement.station))\\\n",
    "        .group_by(Measurement.station).order_by(func.count(Measurement.station)\\\n",
    "        .desc()).all()\n",
    "\n",
    "# Alternate Options\n",
    "# engine.execute('select station, count(station) from measurement group by station order by 2 desc;').fetchall()"
   ]
  },
  {
   "cell_type": "code",
   "execution_count": 24,
   "metadata": {},
   "outputs": [
    {
     "data": {
      "text/plain": [
       "[(54.0, 85.0, 71.66378066378067)]"
      ]
     },
     "execution_count": 24,
     "metadata": {},
     "output_type": "execute_result"
    }
   ],
   "source": [
    "# Using the station id from the previous query, calculate the lowest temperature recorded, \n",
    "# highest temperature recorded, and average temperature most active station?\n",
    "session.query(func.min(Measurement.tobs),func.max(Measurement.tobs),func.avg(Measurement.tobs)).filter(Measurement.station=='USC00519281').all()"
   ]
  },
  {
   "cell_type": "code",
   "execution_count": 25,
   "metadata": {},
   "outputs": [
    {
     "data": {
      "text/plain": [
       "[('USC00519281', 2772),\n",
       " ('USC00519397', 2724),\n",
       " ('USC00513117', 2709),\n",
       " ('USC00519523', 2669),\n",
       " ('USC00516128', 2612),\n",
       " ('USC00514830', 2202),\n",
       " ('USC00511918', 1979),\n",
       " ('USC00517948', 1372),\n",
       " ('USC00518838', 511)]"
      ]
     },
     "execution_count": 25,
     "metadata": {},
     "output_type": "execute_result"
    }
   ],
   "source": [
    "session.query(Measurement.station, func.count(Measurement.station))\\\n",
    "        .group_by(Measurement.station).order_by(func.count(Measurement.station)\\\n",
    "        .desc()).all()"
   ]
  },
  {
   "cell_type": "code",
   "execution_count": 26,
   "metadata": {},
   "outputs": [
    {
     "data": {
      "text/plain": [
       "[('2017-08-18', 79.0),\n",
       " ('2017-08-17', 76.0),\n",
       " ('2017-08-16', 76.0),\n",
       " ('2017-08-15', 77.0),\n",
       " ('2017-08-14', 77.0),\n",
       " ('2017-08-13', 77.0),\n",
       " ('2017-08-06', 83.0),\n",
       " ('2017-08-05', 82.0),\n",
       " ('2017-08-04', 77.0),\n",
       " ('2017-07-31', 76.0),\n",
       " ('2017-07-30', 81.0),\n",
       " ('2017-07-29', 82.0),\n",
       " ('2017-07-28', 81.0),\n",
       " ('2017-07-27', 76.0),\n",
       " ('2017-07-26', 75.0),\n",
       " ('2017-07-25', 77.0),\n",
       " ('2017-07-24', 75.0),\n",
       " ('2017-07-23', 82.0),\n",
       " ('2017-07-22', 77.0),\n",
       " ('2017-07-21', 77.0),\n",
       " ('2017-07-20', 77.0),\n",
       " ('2017-07-19', 76.0),\n",
       " ('2017-07-18', 76.0),\n",
       " ('2017-07-17', 76.0),\n",
       " ('2017-07-16', 80.0),\n",
       " ('2017-07-15', 80.0),\n",
       " ('2017-07-14', 76.0),\n",
       " ('2017-07-13', 74.0),\n",
       " ('2017-07-12', 74.0),\n",
       " ('2017-07-11', 72.0),\n",
       " ('2017-07-10', 69.0),\n",
       " ('2017-07-09', 78.0),\n",
       " ('2017-07-08', 78.0),\n",
       " ('2017-07-07', 75.0),\n",
       " ('2017-07-06', 74.0),\n",
       " ('2017-07-05', 77.0),\n",
       " ('2017-07-04', 78.0),\n",
       " ('2017-07-03', 76.0),\n",
       " ('2017-07-02', 81.0),\n",
       " ('2017-07-01', 79.0),\n",
       " ('2017-06-30', 76.0),\n",
       " ('2017-06-29', 76.0),\n",
       " ('2017-06-28', 77.0),\n",
       " ('2017-06-27', 76.0),\n",
       " ('2017-06-26', 73.0),\n",
       " ('2017-06-25', 71.0),\n",
       " ('2017-06-24', 77.0),\n",
       " ('2017-06-23', 72.0),\n",
       " ('2017-06-22', 72.0),\n",
       " ('2017-06-21', 74.0),\n",
       " ('2017-06-20', 72.0),\n",
       " ('2017-06-19', 72.0),\n",
       " ('2017-06-18', 75.0),\n",
       " ('2017-06-17', 79.0),\n",
       " ('2017-06-16', 73.0),\n",
       " ('2017-06-15', 75.0),\n",
       " ('2017-06-14', 74.0),\n",
       " ('2017-06-13', 76.0),\n",
       " ('2017-06-12', 74.0),\n",
       " ('2017-06-11', 74.0),\n",
       " ('2017-06-10', 74.0),\n",
       " ('2017-06-09', 72.0),\n",
       " ('2017-06-08', 75.0),\n",
       " ('2017-06-07', 75.0),\n",
       " ('2017-06-06', 75.0),\n",
       " ('2017-06-05', 75.0),\n",
       " ('2017-06-04', 77.0),\n",
       " ('2017-06-03', 76.0),\n",
       " ('2017-06-02', 76.0),\n",
       " ('2017-06-01', 80.0),\n",
       " ('2017-05-31', 75.0),\n",
       " ('2017-05-30', 72.0),\n",
       " ('2017-05-29', 74.0),\n",
       " ('2017-05-28', 80.0),\n",
       " ('2017-05-27', 74.0),\n",
       " ('2017-05-26', 74.0),\n",
       " ('2017-05-25', 74.0),\n",
       " ('2017-05-24', 74.0),\n",
       " ('2017-05-23', 71.0),\n",
       " ('2017-05-22', 71.0),\n",
       " ('2017-05-21', 74.0),\n",
       " ('2017-05-20', 76.0),\n",
       " ('2017-05-19', 68.0),\n",
       " ('2017-05-18', 69.0),\n",
       " ('2017-05-17', 74.0),\n",
       " ('2017-05-16', 74.0),\n",
       " ('2017-05-15', 74.0),\n",
       " ('2017-05-14', 77.0),\n",
       " ('2017-05-13', 76.0),\n",
       " ('2017-05-12', 75.0),\n",
       " ('2017-05-11', 70.0),\n",
       " ('2017-05-10', 74.0),\n",
       " ('2017-05-09', 67.0),\n",
       " ('2017-05-08', 70.0),\n",
       " ('2017-05-07', 75.0),\n",
       " ('2017-05-06', 79.0),\n",
       " ('2017-05-05', 70.0),\n",
       " ('2017-05-04', 75.0),\n",
       " ('2017-05-03', 70.0),\n",
       " ('2017-05-02', 75.0),\n",
       " ('2017-05-01', 65.0),\n",
       " ('2017-04-30', 60.0),\n",
       " ('2017-04-29', 72.0),\n",
       " ('2017-04-28', 67.0),\n",
       " ('2017-04-27', 70.0),\n",
       " ('2017-04-26', 74.0),\n",
       " ('2017-04-25', 72.0),\n",
       " ('2017-04-24', 68.0),\n",
       " ('2017-04-23', 76.0),\n",
       " ('2017-04-22', 72.0),\n",
       " ('2017-04-21', 69.0),\n",
       " ('2017-04-20', 76.0),\n",
       " ('2017-04-19', 67.0),\n",
       " ('2017-04-18', 68.0),\n",
       " ('2017-04-17', 67.0),\n",
       " ('2017-04-16', 71.0),\n",
       " ('2017-04-15', 78.0),\n",
       " ('2017-04-14', 74.0),\n",
       " ('2017-04-13', 69.0),\n",
       " ('2017-04-12', 69.0),\n",
       " ('2017-04-11', 70.0),\n",
       " ('2017-04-10', 67.0),\n",
       " ('2017-04-09', 78.0),\n",
       " ('2017-04-08', 77.0),\n",
       " ('2017-04-07', 74.0),\n",
       " ('2017-04-06', 67.0),\n",
       " ('2017-04-05', 71.0),\n",
       " ('2017-04-04', 67.0),\n",
       " ('2017-04-03', 70.0),\n",
       " ('2017-04-02', 75.0),\n",
       " ('2017-04-01', 74.0),\n",
       " ('2017-03-31', 71.0),\n",
       " ('2017-03-30', 73.0),\n",
       " ('2017-03-29', 68.0),\n",
       " ('2017-03-28', 74.0),\n",
       " ('2017-03-27', 76.0),\n",
       " ('2017-03-26', 77.0),\n",
       " ('2017-03-25', 76.0),\n",
       " ('2017-03-24', 71.0),\n",
       " ('2017-03-23', 72.0),\n",
       " ('2017-03-22', 73.0),\n",
       " ('2017-03-21', 72.0),\n",
       " ('2017-03-20', 69.0),\n",
       " ('2017-03-19', 74.0),\n",
       " ('2017-03-18', 65.0),\n",
       " ('2017-03-17', 68.0),\n",
       " ('2017-03-16', 66.0),\n",
       " ('2017-03-15', 69.0),\n",
       " ('2017-03-14', 67.0),\n",
       " ('2017-03-13', 66.0),\n",
       " ('2017-03-12', 69.0),\n",
       " ('2017-03-11', 81.0),\n",
       " ('2017-03-10', 66.0),\n",
       " ('2017-03-09', 67.0),\n",
       " ('2017-03-08', 64.0),\n",
       " ('2017-03-07', 62.0),\n",
       " ('2017-03-06', 67.0),\n",
       " ('2017-03-05', 73.0),\n",
       " ('2017-03-04', 77.0),\n",
       " ('2017-03-03', 72.0),\n",
       " ('2017-03-02', 73.0),\n",
       " ('2017-03-01', 71.0),\n",
       " ('2017-02-28', 72.0),\n",
       " ('2017-02-27', 65.0),\n",
       " ('2017-02-26', 67.0),\n",
       " ('2017-02-25', 61.0),\n",
       " ('2017-02-24', 69.0),\n",
       " ('2017-02-23', 71.0),\n",
       " ('2017-02-22', 71.0),\n",
       " ('2017-02-21', 71.0),\n",
       " ('2017-02-20', 70.0),\n",
       " ('2017-02-19', 70.0),\n",
       " ('2017-02-18', 74.0),\n",
       " ('2017-02-17', 70.0),\n",
       " ('2017-02-16', 65.0),\n",
       " ('2017-02-15', 75.0),\n",
       " ('2017-02-14', 79.0),\n",
       " ('2017-02-13', 73.0),\n",
       " ('2017-02-12', 70.0),\n",
       " ('2017-02-11', 68.0),\n",
       " ('2017-02-10', 62.0),\n",
       " ('2017-02-09', 59.0),\n",
       " ('2017-02-08', 59.0),\n",
       " ('2017-02-07', 64.0),\n",
       " ('2017-02-06', 75.0),\n",
       " ('2017-02-05', 73.0),\n",
       " ('2017-02-04', 70.0),\n",
       " ('2017-02-03', 60.0),\n",
       " ('2017-02-02', 59.0),\n",
       " ('2017-02-01', 68.0),\n",
       " ('2017-01-31', 68.0),\n",
       " ('2017-01-30', 68.0),\n",
       " ('2017-01-29', 69.0),\n",
       " ('2017-01-28', 65.0),\n",
       " ('2017-01-27', 66.0),\n",
       " ('2017-01-26', 70.0),\n",
       " ('2017-01-25', 69.0),\n",
       " ('2017-01-24', 72.0),\n",
       " ('2017-01-23', 72.0),\n",
       " ('2017-01-22', 71.0),\n",
       " ('2017-01-21', 71.0),\n",
       " ('2017-01-20', 69.0),\n",
       " ('2017-01-19', 71.0),\n",
       " ('2017-01-18', 72.0),\n",
       " ('2017-01-17', 69.0),\n",
       " ('2017-01-16', 74.0),\n",
       " ('2017-01-15', 70.0),\n",
       " ('2017-01-14', 77.0),\n",
       " ('2017-01-13', 69.0),\n",
       " ('2017-01-12', 65.0),\n",
       " ('2017-01-11', 63.0),\n",
       " ('2017-01-10', 62.0),\n",
       " ('2017-01-09', 62.0),\n",
       " ('2017-01-08', 70.0),\n",
       " ('2017-01-07', 70.0),\n",
       " ('2017-01-06', 62.0),\n",
       " ('2017-01-05', 63.0),\n",
       " ('2017-01-04', 63.0),\n",
       " ('2017-01-03', 64.0),\n",
       " ('2017-01-02', 70.0),\n",
       " ('2017-01-01', 72.0),\n",
       " ('2016-12-31', 67.0),\n",
       " ('2016-12-30', 69.0),\n",
       " ('2016-12-29', 74.0),\n",
       " ('2016-12-28', 72.0),\n",
       " ('2016-12-27', 71.0),\n",
       " ('2016-12-26', 72.0),\n",
       " ('2016-12-25', 74.0),\n",
       " ('2016-12-24', 74.0),\n",
       " ('2016-12-23', 71.0),\n",
       " ('2016-12-22', 73.0),\n",
       " ('2016-12-21', 74.0),\n",
       " ('2016-12-20', 76.0),\n",
       " ('2016-12-19', 76.0),\n",
       " ('2016-12-18', 69.0),\n",
       " ('2016-12-17', 70.0),\n",
       " ('2016-12-16', 75.0),\n",
       " ('2016-12-15', 62.0),\n",
       " ('2016-12-14', 68.0),\n",
       " ('2016-12-13', 65.0),\n",
       " ('2016-12-12', 66.0),\n",
       " ('2016-12-11', 69.0),\n",
       " ('2016-12-10', 69.0),\n",
       " ('2016-12-09', 68.0),\n",
       " ('2016-12-08', 70.0),\n",
       " ('2016-12-07', 69.0),\n",
       " ('2016-12-06', 67.0),\n",
       " ('2016-12-05', 67.0),\n",
       " ('2016-12-04', 70.0),\n",
       " ('2016-12-03', 72.0),\n",
       " ('2016-12-02', 70.0),\n",
       " ('2016-12-01', 74.0),\n",
       " ('2016-11-30', 73.0),\n",
       " ('2016-11-29', 73.0),\n",
       " ('2016-11-28', 75.0),\n",
       " ('2016-11-27', 73.0),\n",
       " ('2016-11-26', 75.0),\n",
       " ('2016-11-25', 74.0),\n",
       " ('2016-11-24', 75.0),\n",
       " ('2016-11-23', 74.0),\n",
       " ('2016-11-22', 75.0),\n",
       " ('2016-11-21', 73.0),\n",
       " ('2016-11-20', 75.0),\n",
       " ('2016-11-19', 73.0),\n",
       " ('2016-11-18', 75.0),\n",
       " ('2016-11-17', 76.0),\n",
       " ('2016-11-16', 75.0),\n",
       " ('2016-11-15', 76.0),\n",
       " ('2016-11-14', 76.0),\n",
       " ('2016-11-13', 77.0),\n",
       " ('2016-11-12', 74.0),\n",
       " ('2016-11-11', 77.0),\n",
       " ('2016-11-10', 67.0),\n",
       " ('2016-11-09', 68.0),\n",
       " ('2016-11-08', 70.0),\n",
       " ('2016-11-07', 63.0),\n",
       " ('2016-11-06', 71.0),\n",
       " ('2016-11-05', 75.0),\n",
       " ('2016-11-04', 75.0),\n",
       " ('2016-11-03', 75.0),\n",
       " ('2016-11-02', 75.0),\n",
       " ('2016-11-01', 74.0),\n",
       " ('2016-10-31', 76.0),\n",
       " ('2016-10-30', 76.0),\n",
       " ('2016-10-29', 77.0),\n",
       " ('2016-10-28', 74.0),\n",
       " ('2016-10-27', 76.0),\n",
       " ('2016-10-26', 73.0),\n",
       " ('2016-10-25', 76.0),\n",
       " ('2016-10-24', 75.0),\n",
       " ('2016-10-23', 74.0),\n",
       " ('2016-10-22', 77.0),\n",
       " ('2016-10-21', 78.0),\n",
       " ('2016-10-20', 78.0),\n",
       " ('2016-10-19', 78.0),\n",
       " ('2016-10-18', 78.0),\n",
       " ('2016-10-17', 77.0),\n",
       " ('2016-10-16', 79.0),\n",
       " ('2016-10-15', 77.0),\n",
       " ('2016-10-14', 79.0),\n",
       " ('2016-10-13', 78.0),\n",
       " ('2016-10-12', 79.0),\n",
       " ('2016-10-11', 77.0),\n",
       " ('2016-10-10', 71.0),\n",
       " ('2016-10-09', 72.0),\n",
       " ('2016-10-08', 73.0),\n",
       " ('2016-10-07', 76.0),\n",
       " ('2016-10-06', 75.0),\n",
       " ('2016-10-05', 79.0),\n",
       " ('2016-10-04', 79.0),\n",
       " ('2016-10-03', 79.0),\n",
       " ('2016-10-02', 79.0),\n",
       " ('2016-10-01', 77.0),\n",
       " ('2016-09-30', 78.0),\n",
       " ('2016-09-29', 78.0),\n",
       " ('2016-09-28', 78.0),\n",
       " ('2016-09-27', 80.0),\n",
       " ('2016-09-26', 77.0),\n",
       " ('2016-09-25', 79.0),\n",
       " ('2016-09-24', 79.0),\n",
       " ('2016-09-23', 78.0),\n",
       " ('2016-09-22', 77.0),\n",
       " ('2016-09-21', 74.0),\n",
       " ('2016-09-20', 76.0),\n",
       " ('2016-09-19', 78.0),\n",
       " ('2016-09-18', 78.0),\n",
       " ('2016-09-17', 79.0),\n",
       " ('2016-09-16', 78.0),\n",
       " ('2016-09-15', 79.0),\n",
       " ('2016-09-14', 75.0),\n",
       " ('2016-09-13', 79.0),\n",
       " ('2016-09-12', 76.0),\n",
       " ('2016-09-11', 80.0),\n",
       " ('2016-09-10', 77.0),\n",
       " ('2016-09-09', 79.0),\n",
       " ('2016-09-08', 80.0),\n",
       " ('2016-09-07', 74.0),\n",
       " ('2016-09-06', 73.0),\n",
       " ('2016-09-05', 78.0),\n",
       " ('2016-09-04', 78.0),\n",
       " ('2016-09-03', 78.0),\n",
       " ('2016-09-02', 80.0),\n",
       " ('2016-09-01', 80.0),\n",
       " ('2016-08-31', 78.0),\n",
       " ('2016-08-30', 77.0),\n",
       " ('2016-08-29', 78.0),\n",
       " ('2016-08-28', 73.0),\n",
       " ('2016-08-27', 75.0),\n",
       " ('2016-08-26', 80.0),\n",
       " ('2016-08-25', 80.0),\n",
       " ('2016-08-24', 77.0),\n",
       " ('2016-08-23', 77.0)]"
      ]
     },
     "execution_count": 26,
     "metadata": {},
     "output_type": "execute_result"
    }
   ],
   "source": [
    "# Choose the station with the highest number of temperature observations.\n",
    "# session.query(Measurement.station, func.count(Measurement.station)).group_by(Measurement.station).order_by(func.count(Measurement.station).desc()).first()\n",
    "# Answer: USC00519281 w/ 2772 tobs\n",
    "\n",
    "# Query the last 12 months of temperature observation data for this station and plot the results as a histogram\n",
    "USC00519281_past_12mo = session.query(Measurement.date, Measurement.tobs).filter(Measurement.station == 'USC00519281').filter(Measurement.date.between('2016-08-23', '2017-08-23')).order_by(Measurement.date.desc()).all()\n",
    "USC00519281_past_12mo"
   ]
  },
  {
   "cell_type": "code",
   "execution_count": 27,
   "metadata": {},
   "outputs": [],
   "source": [
    "# Unpack tuples using list comprehensions\n",
    "date = [result[0] for result in USC00519281_past_12mo]\n",
    "tobs = [result[1] for result in USC00519281_past_12mo]\n",
    "# date\n",
    "# tobs"
   ]
  },
  {
   "cell_type": "code",
   "execution_count": 28,
   "metadata": {},
   "outputs": [
    {
     "data": {
      "text/html": [
       "<div>\n",
       "<style scoped>\n",
       "    .dataframe tbody tr th:only-of-type {\n",
       "        vertical-align: middle;\n",
       "    }\n",
       "\n",
       "    .dataframe tbody tr th {\n",
       "        vertical-align: top;\n",
       "    }\n",
       "\n",
       "    .dataframe thead th {\n",
       "        text-align: right;\n",
       "    }\n",
       "</style>\n",
       "<table border=\"1\" class=\"dataframe\">\n",
       "  <thead>\n",
       "    <tr style=\"text-align: right;\">\n",
       "      <th></th>\n",
       "      <th>tobs</th>\n",
       "    </tr>\n",
       "    <tr>\n",
       "      <th>date</th>\n",
       "      <th></th>\n",
       "    </tr>\n",
       "  </thead>\n",
       "  <tbody>\n",
       "    <tr>\n",
       "      <th>2017-08-18</th>\n",
       "      <td>79.0</td>\n",
       "    </tr>\n",
       "    <tr>\n",
       "      <th>2017-08-17</th>\n",
       "      <td>76.0</td>\n",
       "    </tr>\n",
       "    <tr>\n",
       "      <th>2017-08-16</th>\n",
       "      <td>76.0</td>\n",
       "    </tr>\n",
       "    <tr>\n",
       "      <th>2017-08-15</th>\n",
       "      <td>77.0</td>\n",
       "    </tr>\n",
       "    <tr>\n",
       "      <th>2017-08-14</th>\n",
       "      <td>77.0</td>\n",
       "    </tr>\n",
       "    <tr>\n",
       "      <th>2017-08-13</th>\n",
       "      <td>77.0</td>\n",
       "    </tr>\n",
       "    <tr>\n",
       "      <th>2017-08-06</th>\n",
       "      <td>83.0</td>\n",
       "    </tr>\n",
       "    <tr>\n",
       "      <th>2017-08-05</th>\n",
       "      <td>82.0</td>\n",
       "    </tr>\n",
       "  </tbody>\n",
       "</table>\n",
       "</div>"
      ],
      "text/plain": [
       "            tobs\n",
       "date            \n",
       "2017-08-18  79.0\n",
       "2017-08-17  76.0\n",
       "2017-08-16  76.0\n",
       "2017-08-15  77.0\n",
       "2017-08-14  77.0\n",
       "2017-08-13  77.0\n",
       "2017-08-06  83.0\n",
       "2017-08-05  82.0"
      ]
     },
     "execution_count": 28,
     "metadata": {},
     "output_type": "execute_result"
    }
   ],
   "source": [
    "# Save the query results as a Pandas DataFrame and set the index to the date column\n",
    "most_tobs = pd.DataFrame(USC00519281_past_12mo, columns=['date','tobs'])\n",
    "most_tobs.set_index('date', inplace=True, )\n",
    "most_tobs.head(8)"
   ]
  },
  {
   "cell_type": "code",
   "execution_count": 29,
   "metadata": {},
   "outputs": [
    {
     "data": {
      "image/png": "[encoded data removed]",
      "text/plain": [
       "<Figure size 432x288 with 1 Axes>"
      ]
     },
     "metadata": {
      "needs_background": "light"
     },
     "output_type": "display_data"
    }
   ],
   "source": [
    "Busiest_station = most_tobs.plot(kind='hist', bins=12)\n",
    "\n",
    "plt.savefig(\"Busiest_station.png\", bbox_inches = 'tight')\n",
    "\n",
    "plt.show()"
   ]
  },
  {
   "cell_type": "markdown",
   "metadata": {},
   "source": [
    "### Climate App - Flask API "
   ]
  },
  {
   "cell_type": "code",
   "execution_count": 30,
   "metadata": {},
   "outputs": [],
   "source": [
    "# import Flask\n",
    "from flask import Flask, jsonify\n",
    "\n",
    "# create an app\n",
    "app = Flask(__name__)\n",
    "\n",
    "# define what to do when a user hits the index route\n",
    "@app.route(\"/\")\n",
    "def home():\n",
    "    print(\"Server received for 'Home' page...\")\n",
    "    return (\"Welcome to my 'Home' page!<br/>\"\n",
    "           f\"Available Routes:<br/>\"\n",
    "           f\"/api/v1.0/precipitation<br/>\"\n",
    "           f\"/api/v1.0/stations<br/>\"\n",
    "           f\"/api/v1.0/tobs<br/>\"\n",
    "           f\"/api/v1.0/<start><br/>\"\n",
    "           f\"/api/v1.0/<start>/<end><br/>\"\n",
    "           )\n",
    "\n"
   ]
  },
  {
   "cell_type": "code",
   "execution_count": 34,
   "metadata": {},
   "outputs": [
    {
     "name": "stdout",
     "output_type": "stream",
     "text": [
      "2012-02-28\n",
      "2012-03-05\n"
     ]
    },
    {
     "data": {
      "text/plain": [
       "[(62.0, 69.57142857142857, 74.0)]"
      ]
     },
     "execution_count": 34,
     "metadata": {},
     "output_type": "execute_result"
    }
   ],
   "source": [
    "start_date = input()\n",
    "# '2012-02-28'\n",
    "end_date = input()\n",
    "# '2012-03-05'\n",
    "session.query(func.min(Measurement.tobs), func.avg(Measurement.tobs), func.max(Measurement.tobs)).\\\n",
    "        filter(Measurement.date >= start_date).filter(Measurement.date <= end_date).all()\n"
   ]
  },
  {
   "cell_type": "code",
   "execution_count": 36,
   "metadata": {},
   "outputs": [
    {
     "name": "stdout",
     "output_type": "stream",
     "text": [
      "2012-02-28\n",
      "2012-03-05\n",
      "[(62.0, 69.57142857142857, 74.0)]\n",
      " * Serving Flask app \"__main__\" (lazy loading)\n",
      " * Environment: production\n",
      "   WARNING: Do not use the development server in a production environment.\n",
      "   Use a production WSGI server instead.\n",
      " * Debug mode: on\n"
     ]
    },
    {
     "name": "stderr",
     "output_type": "stream",
     "text": [
      " * Restarting with stat\n"
     ]
    },
    {
     "ename": "SystemExit",
     "evalue": "1",
     "output_type": "error",
     "traceback": [
      "An exception has occurred, use %tb to see the full traceback.\n",
      "\u001b[1;31mSystemExit\u001b[0m\u001b[1;31m:\u001b[0m 1\n"
     ]
    },
    {
     "name": "stderr",
     "output_type": "stream",
     "text": [
      "C:\\Users\\Francisco\\Anaconda3\\envs\\PythonData\\lib\\site-packages\\IPython\\core\\interactiveshell.py:3275: UserWarning: To exit: use 'exit', 'quit', or Ctrl-D.\n",
      "  warn(\"To exit: use 'exit', 'quit', or Ctrl-D.\", stacklevel=1)\n"
     ]
    }
   ],
   "source": [
    "\n",
    "# This function called `calc_temps` will accept start date and end date in the format '%Y-%m-%d' \n",
    "# and return the minimum, average, and maximum temperatures for that range of dates\n",
    "\n",
    "\n",
    "def calc_temps(start_date, end_date):\n",
    "    \"\"\"TMIN, TAVG, and TMAX for a list of dates.\n",
    "    \n",
    "    Args:\n",
    "        start_date (string): A date string in the format %Y-%m-%d\n",
    "        end_date (string): A date string in the format %Y-%m-%d\n",
    "        \n",
    "    Returns:\n",
    "        TMIN, TAVE, and TMAX\n",
    "    \"\"\"\n",
    "    \n",
    "    return session.query(func.min(Measurement.tobs), func.avg(Measurement.tobs), func.max(Measurement.tobs)).\\\n",
    "        filter(Measurement.date >= start_date).filter(Measurement.date <= end_date).all()\n",
    "\n",
    "# function usage example\n",
    "print(calc_temps('2012-02-28', '2012-03-05'))\n",
    "\n",
    "if __name__ == '__main__':\n",
    "    app.run(debug=True)"
   ]
  },
  {
   "cell_type": "code",
   "execution_count": null,
   "metadata": {},
   "outputs": [],
   "source": [
    "# Use your previous function `calc_temps` to calculate the tmin, tavg, and tmax \n",
    "# for your trip using the previous year's data for those same dates.\n"
   ]
  },
  {
   "cell_type": "code",
   "execution_count": null,
   "metadata": {},
   "outputs": [],
   "source": [
    "# Plot the results from your previous query as a bar chart. \n",
    "# Use \"Trip Avg Temp\" as your Title\n",
    "# Use the average temperature for the y value\n",
    "# Use the peak-to-peak (tmax-tmin) value as the y error bar (yerr)\n"
   ]
  },
  {
   "cell_type": "code",
   "execution_count": null,
   "metadata": {},
   "outputs": [],
   "source": [
    "# Calculate the total amount of rainfall per weather station for your trip dates using the previous year's matching dates.\n",
    "# Sort this in descending order by precipitation amount and list the station, name, latitude, longitude, and elevation\n",
    "\n"
   ]
  }
 ],
 "metadata": {
  "kernel_info": {
   "name": "python3"
  },
  "kernelspec": {
   "display_name": "Python 3",
   "language": "python",
   "name": "python3"
  },
  "language_info": {
   "codemirror_mode": {
    "name": "ipython",
    "version": 3
   },
   "file_extension": ".py",
   "mimetype": "text/x-python",
   "name": "python",
   "nbconvert_exporter": "python",
   "pygments_lexer": "ipython3",
   "version": "3.6.7"
  },
  "nteract": {
   "version": "0.12.3"
  },
  "varInspector": {
   "cols": {
    "lenName": 16,
    "lenType": 16,
    "lenVar": 40
   },
   "kernels_config": {
    "python": {
     "delete_cmd_postfix": "",
     "delete_cmd_prefix": "del ",
     "library": "var_list.py",
     "varRefreshCmd": "print(var_dic_list())"
    },
    "r": {
     "delete_cmd_postfix": ") ",
     "delete_cmd_prefix": "rm(",
     "library": "var_list.r",
     "varRefreshCmd": "cat(var_dic_list()) "
    }
   },
   "types_to_exclude": [
    "module",
    "function",
    "builtin_function_or_method",
    "instance",
    "_Feature"
   ],
   "window_display": false
  }
 },
 "nbformat": 4,
 "nbformat_minor": 2
}
